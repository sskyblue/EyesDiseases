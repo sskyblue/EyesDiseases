{
  "nbformat": 4,
  "nbformat_minor": 0,
  "metadata": {
    "colab": {
      "provenance": []
    },
    "kernelspec": {
      "name": "python3",
      "display_name": "Python 3"
    },
    "language_info": {
      "name": "python"
    }
  },
  "cells": [
    {
      "cell_type": "code",
      "execution_count": null,
      "metadata": {
        "id": "Eq5OnZW47K0g"
      },
      "outputs": [],
      "source": [
        "import pandas as pd\n",
        "import numpy as np\n",
        "import matplotlib.pyplot as plt\n",
        "import seaborn as sns\n",
        "\n",
        "npre_df = pd.read_csv('npretrained.csv')\n",
        "pre_df = pd.read_csv('pretrained.csv')"
      ]
    },
    {
      "cell_type": "code",
      "source": [
        "pre_df.dtypes"
      ],
      "metadata": {
        "colab": {
          "base_uri": "https://localhost:8080/"
        },
        "id": "nC7lO-DO7c4I",
        "outputId": "708cc7d7-7290-4186-ca48-3937085e8af4"
      },
      "execution_count": null,
      "outputs": [
        {
          "output_type": "execute_result",
          "data": {
            "text/plain": [
              "model             object\n",
              "Alexnet           object\n",
              "Alexnet.1         object\n",
              "Densnet           object\n",
              "Densnet.1         object\n",
              "Efficientnet      object\n",
              "Efficientnet.1    object\n",
              "Mnasnet           object\n",
              "Mnasnet.1         object\n",
              "Resnet            object\n",
              "Resnet.1          object\n",
              "Vgg               object\n",
              "Vgg.1             object\n",
              "Vit               object\n",
              "Vit.1             object\n",
              "dtype: object"
            ]
          },
          "metadata": {},
          "execution_count": 2
        }
      ]
    },
    {
      "cell_type": "code",
      "source": [
        "pre_df = pre_df.drop(pre_df.index[0])\n",
        "npre_df = npre_df.drop(npre_df.index[0])"
      ],
      "metadata": {
        "id": "X7kG7O7A94ND"
      },
      "execution_count": null,
      "outputs": []
    },
    {
      "cell_type": "code",
      "source": [
        "pre_df"
      ],
      "metadata": {
        "colab": {
          "base_uri": "https://localhost:8080/",
          "height": 206
        },
        "id": "nKtu3P39-O5c",
        "outputId": "53f13aa1-cefc-4731-cff8-990cdcdb9f7b"
      },
      "execution_count": null,
      "outputs": [
        {
          "output_type": "execute_result",
          "data": {
            "text/plain": [
              "  model Alexnet Alexnet.1 Densnet Densnet.1 Efficientnet Efficientnet.1  \\\n",
              "1     0   89.07     83.04   93.84     88.44        88.32          87.81   \n",
              "2     1   88.95     86.53   94.41     95.43        93.77          94.16   \n",
              "3     2   77.91      75.1   81.23     80.46        78.29           76.5   \n",
              "4     3    86.6     85.29   93.14     94.44         91.5          91.83   \n",
              "5     4   80.49      81.3     NaN     85.37        83.74          84.96   \n",
              "\n",
              "  Mnasnet Mnasnet.1 Resnet Resnet.1    Vgg  Vgg.1    Vit  Vit.1  \n",
              "1   84.55      84.8  87.56    85.05   85.8  82.29  80.15  79.15  \n",
              "2   88.82     86.79  95.04    94.66   92.5  93.27  91.23  90.22  \n",
              "3   73.18      72.8  78.54    76.63  75.48  75.35  75.22  73.95  \n",
              "4   83.66      78.4  91.83    92.48  87.25  83.66  63.73  78.76  \n",
              "5    81.3     77.24  85.77    83.33  84.15  82.63  61.38  84.55  "
            ],
            "text/html": [
              "\n",
              "  <div id=\"df-c6a99cd0-6996-4808-9224-ea18abf1879d\">\n",
              "    <div class=\"colab-df-container\">\n",
              "      <div>\n",
              "<style scoped>\n",
              "    .dataframe tbody tr th:only-of-type {\n",
              "        vertical-align: middle;\n",
              "    }\n",
              "\n",
              "    .dataframe tbody tr th {\n",
              "        vertical-align: top;\n",
              "    }\n",
              "\n",
              "    .dataframe thead th {\n",
              "        text-align: right;\n",
              "    }\n",
              "</style>\n",
              "<table border=\"1\" class=\"dataframe\">\n",
              "  <thead>\n",
              "    <tr style=\"text-align: right;\">\n",
              "      <th></th>\n",
              "      <th>model</th>\n",
              "      <th>Alexnet</th>\n",
              "      <th>Alexnet.1</th>\n",
              "      <th>Densnet</th>\n",
              "      <th>Densnet.1</th>\n",
              "      <th>Efficientnet</th>\n",
              "      <th>Efficientnet.1</th>\n",
              "      <th>Mnasnet</th>\n",
              "      <th>Mnasnet.1</th>\n",
              "      <th>Resnet</th>\n",
              "      <th>Resnet.1</th>\n",
              "      <th>Vgg</th>\n",
              "      <th>Vgg.1</th>\n",
              "      <th>Vit</th>\n",
              "      <th>Vit.1</th>\n",
              "    </tr>\n",
              "  </thead>\n",
              "  <tbody>\n",
              "    <tr>\n",
              "      <th>1</th>\n",
              "      <td>0</td>\n",
              "      <td>89.07</td>\n",
              "      <td>83.04</td>\n",
              "      <td>93.84</td>\n",
              "      <td>88.44</td>\n",
              "      <td>88.32</td>\n",
              "      <td>87.81</td>\n",
              "      <td>84.55</td>\n",
              "      <td>84.8</td>\n",
              "      <td>87.56</td>\n",
              "      <td>85.05</td>\n",
              "      <td>85.8</td>\n",
              "      <td>82.29</td>\n",
              "      <td>80.15</td>\n",
              "      <td>79.15</td>\n",
              "    </tr>\n",
              "    <tr>\n",
              "      <th>2</th>\n",
              "      <td>1</td>\n",
              "      <td>88.95</td>\n",
              "      <td>86.53</td>\n",
              "      <td>94.41</td>\n",
              "      <td>95.43</td>\n",
              "      <td>93.77</td>\n",
              "      <td>94.16</td>\n",
              "      <td>88.82</td>\n",
              "      <td>86.79</td>\n",
              "      <td>95.04</td>\n",
              "      <td>94.66</td>\n",
              "      <td>92.5</td>\n",
              "      <td>93.27</td>\n",
              "      <td>91.23</td>\n",
              "      <td>90.22</td>\n",
              "    </tr>\n",
              "    <tr>\n",
              "      <th>3</th>\n",
              "      <td>2</td>\n",
              "      <td>77.91</td>\n",
              "      <td>75.1</td>\n",
              "      <td>81.23</td>\n",
              "      <td>80.46</td>\n",
              "      <td>78.29</td>\n",
              "      <td>76.5</td>\n",
              "      <td>73.18</td>\n",
              "      <td>72.8</td>\n",
              "      <td>78.54</td>\n",
              "      <td>76.63</td>\n",
              "      <td>75.48</td>\n",
              "      <td>75.35</td>\n",
              "      <td>75.22</td>\n",
              "      <td>73.95</td>\n",
              "    </tr>\n",
              "    <tr>\n",
              "      <th>4</th>\n",
              "      <td>3</td>\n",
              "      <td>86.6</td>\n",
              "      <td>85.29</td>\n",
              "      <td>93.14</td>\n",
              "      <td>94.44</td>\n",
              "      <td>91.5</td>\n",
              "      <td>91.83</td>\n",
              "      <td>83.66</td>\n",
              "      <td>78.4</td>\n",
              "      <td>91.83</td>\n",
              "      <td>92.48</td>\n",
              "      <td>87.25</td>\n",
              "      <td>83.66</td>\n",
              "      <td>63.73</td>\n",
              "      <td>78.76</td>\n",
              "    </tr>\n",
              "    <tr>\n",
              "      <th>5</th>\n",
              "      <td>4</td>\n",
              "      <td>80.49</td>\n",
              "      <td>81.3</td>\n",
              "      <td>NaN</td>\n",
              "      <td>85.37</td>\n",
              "      <td>83.74</td>\n",
              "      <td>84.96</td>\n",
              "      <td>81.3</td>\n",
              "      <td>77.24</td>\n",
              "      <td>85.77</td>\n",
              "      <td>83.33</td>\n",
              "      <td>84.15</td>\n",
              "      <td>82.63</td>\n",
              "      <td>61.38</td>\n",
              "      <td>84.55</td>\n",
              "    </tr>\n",
              "  </tbody>\n",
              "</table>\n",
              "</div>\n",
              "      <button class=\"colab-df-convert\" onclick=\"convertToInteractive('df-c6a99cd0-6996-4808-9224-ea18abf1879d')\"\n",
              "              title=\"Convert this dataframe to an interactive table.\"\n",
              "              style=\"display:none;\">\n",
              "        \n",
              "  <svg xmlns=\"http://www.w3.org/2000/svg\" height=\"24px\"viewBox=\"0 0 24 24\"\n",
              "       width=\"24px\">\n",
              "    <path d=\"M0 0h24v24H0V0z\" fill=\"none\"/>\n",
              "    <path d=\"M18.56 5.44l.94 2.06.94-2.06 2.06-.94-2.06-.94-.94-2.06-.94 2.06-2.06.94zm-11 1L8.5 8.5l.94-2.06 2.06-.94-2.06-.94L8.5 2.5l-.94 2.06-2.06.94zm10 10l.94 2.06.94-2.06 2.06-.94-2.06-.94-.94-2.06-.94 2.06-2.06.94z\"/><path d=\"M17.41 7.96l-1.37-1.37c-.4-.4-.92-.59-1.43-.59-.52 0-1.04.2-1.43.59L10.3 9.45l-7.72 7.72c-.78.78-.78 2.05 0 2.83L4 21.41c.39.39.9.59 1.41.59.51 0 1.02-.2 1.41-.59l7.78-7.78 2.81-2.81c.8-.78.8-2.07 0-2.86zM5.41 20L4 18.59l7.72-7.72 1.47 1.35L5.41 20z\"/>\n",
              "  </svg>\n",
              "      </button>\n",
              "      \n",
              "  <style>\n",
              "    .colab-df-container {\n",
              "      display:flex;\n",
              "      flex-wrap:wrap;\n",
              "      gap: 12px;\n",
              "    }\n",
              "\n",
              "    .colab-df-convert {\n",
              "      background-color: #E8F0FE;\n",
              "      border: none;\n",
              "      border-radius: 50%;\n",
              "      cursor: pointer;\n",
              "      display: none;\n",
              "      fill: #1967D2;\n",
              "      height: 32px;\n",
              "      padding: 0 0 0 0;\n",
              "      width: 32px;\n",
              "    }\n",
              "\n",
              "    .colab-df-convert:hover {\n",
              "      background-color: #E2EBFA;\n",
              "      box-shadow: 0px 1px 2px rgba(60, 64, 67, 0.3), 0px 1px 3px 1px rgba(60, 64, 67, 0.15);\n",
              "      fill: #174EA6;\n",
              "    }\n",
              "\n",
              "    [theme=dark] .colab-df-convert {\n",
              "      background-color: #3B4455;\n",
              "      fill: #D2E3FC;\n",
              "    }\n",
              "\n",
              "    [theme=dark] .colab-df-convert:hover {\n",
              "      background-color: #434B5C;\n",
              "      box-shadow: 0px 1px 3px 1px rgba(0, 0, 0, 0.15);\n",
              "      filter: drop-shadow(0px 1px 2px rgba(0, 0, 0, 0.3));\n",
              "      fill: #FFFFFF;\n",
              "    }\n",
              "  </style>\n",
              "\n",
              "      <script>\n",
              "        const buttonEl =\n",
              "          document.querySelector('#df-c6a99cd0-6996-4808-9224-ea18abf1879d button.colab-df-convert');\n",
              "        buttonEl.style.display =\n",
              "          google.colab.kernel.accessAllowed ? 'block' : 'none';\n",
              "\n",
              "        async function convertToInteractive(key) {\n",
              "          const element = document.querySelector('#df-c6a99cd0-6996-4808-9224-ea18abf1879d');\n",
              "          const dataTable =\n",
              "            await google.colab.kernel.invokeFunction('convertToInteractive',\n",
              "                                                     [key], {});\n",
              "          if (!dataTable) return;\n",
              "\n",
              "          const docLinkHtml = 'Like what you see? Visit the ' +\n",
              "            '<a target=\"_blank\" href=https://colab.research.google.com/notebooks/data_table.ipynb>data table notebook</a>'\n",
              "            + ' to learn more about interactive tables.';\n",
              "          element.innerHTML = '';\n",
              "          dataTable['output_type'] = 'display_data';\n",
              "          await google.colab.output.renderOutput(dataTable, element);\n",
              "          const docLink = document.createElement('div');\n",
              "          docLink.innerHTML = docLinkHtml;\n",
              "          element.appendChild(docLink);\n",
              "        }\n",
              "      </script>\n",
              "    </div>\n",
              "  </div>\n",
              "  "
            ]
          },
          "metadata": {},
          "execution_count": 4
        }
      ]
    },
    {
      "cell_type": "code",
      "source": [
        "pre_df = pre_df.astype('float')\n",
        "pre_df = pre_df.fillna(86.99)\n",
        "npre_df = npre_df.astype('float')\n"
      ],
      "metadata": {
        "id": "JaJx6uSN9r1S"
      },
      "execution_count": null,
      "outputs": []
    },
    {
      "cell_type": "code",
      "source": [
        "pre_df = pre_df.drop(['model'], axis = 1)\n",
        "npre_df = npre_df.drop(['model'], axis = 1)"
      ],
      "metadata": {
        "id": "Mww4jb3DzGE8"
      },
      "execution_count": null,
      "outputs": []
    },
    {
      "cell_type": "code",
      "source": [
        "pre_df"
      ],
      "metadata": {
        "colab": {
          "base_uri": "https://localhost:8080/",
          "height": 206
        },
        "id": "O967fshfzW4L",
        "outputId": "978ab21f-f72c-43d1-8067-e44120c1d78b"
      },
      "execution_count": null,
      "outputs": [
        {
          "output_type": "execute_result",
          "data": {
            "text/plain": [
              "   Alexnet  Alexnet.1  Densnet  Densnet.1  Efficientnet  Efficientnet.1  \\\n",
              "1    89.07      83.04    93.84      88.44         88.32           87.81   \n",
              "2    88.95      86.53    94.41      95.43         93.77           94.16   \n",
              "3    77.91      75.10    81.23      80.46         78.29           76.50   \n",
              "4    86.60      85.29    93.14      94.44         91.50           91.83   \n",
              "5    80.49      81.30    86.99      85.37         83.74           84.96   \n",
              "\n",
              "   Mnasnet  Mnasnet.1  Resnet  Resnet.1    Vgg  Vgg.1    Vit  Vit.1  \n",
              "1    84.55      84.80   87.56     85.05  85.80  82.29  80.15  79.15  \n",
              "2    88.82      86.79   95.04     94.66  92.50  93.27  91.23  90.22  \n",
              "3    73.18      72.80   78.54     76.63  75.48  75.35  75.22  73.95  \n",
              "4    83.66      78.40   91.83     92.48  87.25  83.66  63.73  78.76  \n",
              "5    81.30      77.24   85.77     83.33  84.15  82.63  61.38  84.55  "
            ],
            "text/html": [
              "\n",
              "  <div id=\"df-a2ce5717-8895-48cb-a39b-b3ac67df158f\">\n",
              "    <div class=\"colab-df-container\">\n",
              "      <div>\n",
              "<style scoped>\n",
              "    .dataframe tbody tr th:only-of-type {\n",
              "        vertical-align: middle;\n",
              "    }\n",
              "\n",
              "    .dataframe tbody tr th {\n",
              "        vertical-align: top;\n",
              "    }\n",
              "\n",
              "    .dataframe thead th {\n",
              "        text-align: right;\n",
              "    }\n",
              "</style>\n",
              "<table border=\"1\" class=\"dataframe\">\n",
              "  <thead>\n",
              "    <tr style=\"text-align: right;\">\n",
              "      <th></th>\n",
              "      <th>Alexnet</th>\n",
              "      <th>Alexnet.1</th>\n",
              "      <th>Densnet</th>\n",
              "      <th>Densnet.1</th>\n",
              "      <th>Efficientnet</th>\n",
              "      <th>Efficientnet.1</th>\n",
              "      <th>Mnasnet</th>\n",
              "      <th>Mnasnet.1</th>\n",
              "      <th>Resnet</th>\n",
              "      <th>Resnet.1</th>\n",
              "      <th>Vgg</th>\n",
              "      <th>Vgg.1</th>\n",
              "      <th>Vit</th>\n",
              "      <th>Vit.1</th>\n",
              "    </tr>\n",
              "  </thead>\n",
              "  <tbody>\n",
              "    <tr>\n",
              "      <th>1</th>\n",
              "      <td>89.07</td>\n",
              "      <td>83.04</td>\n",
              "      <td>93.84</td>\n",
              "      <td>88.44</td>\n",
              "      <td>88.32</td>\n",
              "      <td>87.81</td>\n",
              "      <td>84.55</td>\n",
              "      <td>84.80</td>\n",
              "      <td>87.56</td>\n",
              "      <td>85.05</td>\n",
              "      <td>85.80</td>\n",
              "      <td>82.29</td>\n",
              "      <td>80.15</td>\n",
              "      <td>79.15</td>\n",
              "    </tr>\n",
              "    <tr>\n",
              "      <th>2</th>\n",
              "      <td>88.95</td>\n",
              "      <td>86.53</td>\n",
              "      <td>94.41</td>\n",
              "      <td>95.43</td>\n",
              "      <td>93.77</td>\n",
              "      <td>94.16</td>\n",
              "      <td>88.82</td>\n",
              "      <td>86.79</td>\n",
              "      <td>95.04</td>\n",
              "      <td>94.66</td>\n",
              "      <td>92.50</td>\n",
              "      <td>93.27</td>\n",
              "      <td>91.23</td>\n",
              "      <td>90.22</td>\n",
              "    </tr>\n",
              "    <tr>\n",
              "      <th>3</th>\n",
              "      <td>77.91</td>\n",
              "      <td>75.10</td>\n",
              "      <td>81.23</td>\n",
              "      <td>80.46</td>\n",
              "      <td>78.29</td>\n",
              "      <td>76.50</td>\n",
              "      <td>73.18</td>\n",
              "      <td>72.80</td>\n",
              "      <td>78.54</td>\n",
              "      <td>76.63</td>\n",
              "      <td>75.48</td>\n",
              "      <td>75.35</td>\n",
              "      <td>75.22</td>\n",
              "      <td>73.95</td>\n",
              "    </tr>\n",
              "    <tr>\n",
              "      <th>4</th>\n",
              "      <td>86.60</td>\n",
              "      <td>85.29</td>\n",
              "      <td>93.14</td>\n",
              "      <td>94.44</td>\n",
              "      <td>91.50</td>\n",
              "      <td>91.83</td>\n",
              "      <td>83.66</td>\n",
              "      <td>78.40</td>\n",
              "      <td>91.83</td>\n",
              "      <td>92.48</td>\n",
              "      <td>87.25</td>\n",
              "      <td>83.66</td>\n",
              "      <td>63.73</td>\n",
              "      <td>78.76</td>\n",
              "    </tr>\n",
              "    <tr>\n",
              "      <th>5</th>\n",
              "      <td>80.49</td>\n",
              "      <td>81.30</td>\n",
              "      <td>86.99</td>\n",
              "      <td>85.37</td>\n",
              "      <td>83.74</td>\n",
              "      <td>84.96</td>\n",
              "      <td>81.30</td>\n",
              "      <td>77.24</td>\n",
              "      <td>85.77</td>\n",
              "      <td>83.33</td>\n",
              "      <td>84.15</td>\n",
              "      <td>82.63</td>\n",
              "      <td>61.38</td>\n",
              "      <td>84.55</td>\n",
              "    </tr>\n",
              "  </tbody>\n",
              "</table>\n",
              "</div>\n",
              "      <button class=\"colab-df-convert\" onclick=\"convertToInteractive('df-a2ce5717-8895-48cb-a39b-b3ac67df158f')\"\n",
              "              title=\"Convert this dataframe to an interactive table.\"\n",
              "              style=\"display:none;\">\n",
              "        \n",
              "  <svg xmlns=\"http://www.w3.org/2000/svg\" height=\"24px\"viewBox=\"0 0 24 24\"\n",
              "       width=\"24px\">\n",
              "    <path d=\"M0 0h24v24H0V0z\" fill=\"none\"/>\n",
              "    <path d=\"M18.56 5.44l.94 2.06.94-2.06 2.06-.94-2.06-.94-.94-2.06-.94 2.06-2.06.94zm-11 1L8.5 8.5l.94-2.06 2.06-.94-2.06-.94L8.5 2.5l-.94 2.06-2.06.94zm10 10l.94 2.06.94-2.06 2.06-.94-2.06-.94-.94-2.06-.94 2.06-2.06.94z\"/><path d=\"M17.41 7.96l-1.37-1.37c-.4-.4-.92-.59-1.43-.59-.52 0-1.04.2-1.43.59L10.3 9.45l-7.72 7.72c-.78.78-.78 2.05 0 2.83L4 21.41c.39.39.9.59 1.41.59.51 0 1.02-.2 1.41-.59l7.78-7.78 2.81-2.81c.8-.78.8-2.07 0-2.86zM5.41 20L4 18.59l7.72-7.72 1.47 1.35L5.41 20z\"/>\n",
              "  </svg>\n",
              "      </button>\n",
              "      \n",
              "  <style>\n",
              "    .colab-df-container {\n",
              "      display:flex;\n",
              "      flex-wrap:wrap;\n",
              "      gap: 12px;\n",
              "    }\n",
              "\n",
              "    .colab-df-convert {\n",
              "      background-color: #E8F0FE;\n",
              "      border: none;\n",
              "      border-radius: 50%;\n",
              "      cursor: pointer;\n",
              "      display: none;\n",
              "      fill: #1967D2;\n",
              "      height: 32px;\n",
              "      padding: 0 0 0 0;\n",
              "      width: 32px;\n",
              "    }\n",
              "\n",
              "    .colab-df-convert:hover {\n",
              "      background-color: #E2EBFA;\n",
              "      box-shadow: 0px 1px 2px rgba(60, 64, 67, 0.3), 0px 1px 3px 1px rgba(60, 64, 67, 0.15);\n",
              "      fill: #174EA6;\n",
              "    }\n",
              "\n",
              "    [theme=dark] .colab-df-convert {\n",
              "      background-color: #3B4455;\n",
              "      fill: #D2E3FC;\n",
              "    }\n",
              "\n",
              "    [theme=dark] .colab-df-convert:hover {\n",
              "      background-color: #434B5C;\n",
              "      box-shadow: 0px 1px 3px 1px rgba(0, 0, 0, 0.15);\n",
              "      filter: drop-shadow(0px 1px 2px rgba(0, 0, 0, 0.3));\n",
              "      fill: #FFFFFF;\n",
              "    }\n",
              "  </style>\n",
              "\n",
              "      <script>\n",
              "        const buttonEl =\n",
              "          document.querySelector('#df-a2ce5717-8895-48cb-a39b-b3ac67df158f button.colab-df-convert');\n",
              "        buttonEl.style.display =\n",
              "          google.colab.kernel.accessAllowed ? 'block' : 'none';\n",
              "\n",
              "        async function convertToInteractive(key) {\n",
              "          const element = document.querySelector('#df-a2ce5717-8895-48cb-a39b-b3ac67df158f');\n",
              "          const dataTable =\n",
              "            await google.colab.kernel.invokeFunction('convertToInteractive',\n",
              "                                                     [key], {});\n",
              "          if (!dataTable) return;\n",
              "\n",
              "          const docLinkHtml = 'Like what you see? Visit the ' +\n",
              "            '<a target=\"_blank\" href=https://colab.research.google.com/notebooks/data_table.ipynb>data table notebook</a>'\n",
              "            + ' to learn more about interactive tables.';\n",
              "          element.innerHTML = '';\n",
              "          dataTable['output_type'] = 'display_data';\n",
              "          await google.colab.output.renderOutput(dataTable, element);\n",
              "          const docLink = document.createElement('div');\n",
              "          docLink.innerHTML = docLinkHtml;\n",
              "          element.appendChild(docLink);\n",
              "        }\n",
              "      </script>\n",
              "    </div>\n",
              "  </div>\n",
              "  "
            ]
          },
          "metadata": {},
          "execution_count": 7
        }
      ]
    },
    {
      "cell_type": "code",
      "source": [
        "models = pre_df.columns.astype('str')\n",
        "\n",
        "for i in range(7):\n",
        "    x = []\n",
        "    a1 = pre_df[models[i * 2]].values\n",
        "    a2 = pre_df[models[i * 2 + 1]].values\n",
        "    a3 = npre_df[models[i * 2]].values\n",
        "    a4 = npre_df[models[i*2+1]].values\n",
        "    for j in range(5):\n",
        "        temp = max(a1[j], a2[j], a3[j], a4[j])\n",
        "        x.append(temp)\n",
        "    print(x)"
      ],
      "metadata": {
        "colab": {
          "base_uri": "https://localhost:8080/"
        },
        "id": "BFAK7_TdzZKD",
        "outputId": "06172b1a-bd84-4e1b-8c61-080db672ca26"
      },
      "execution_count": null,
      "outputs": [
        {
          "output_type": "stream",
          "name": "stdout",
          "text": [
            "[92.84, 88.95, 77.91, 88.56, 81.71]\n",
            "[93.84, 95.43, 81.23, 94.44, 86.99]\n",
            "[88.32, 94.16, 78.29, 91.83, 84.96]\n",
            "[85.3, 89.45, 74.58, 86.6, 82.11]\n",
            "[87.56, 95.04, 78.54, 92.48, 85.77]\n",
            "[86.68, 93.27, 75.48, 89.22, 84.15]\n",
            "[80.15, 91.23, 75.22, 78.76, 84.55]\n"
          ]
        }
      ]
    },
    {
      "cell_type": "code",
      "source": [
        "a1[0]"
      ],
      "metadata": {
        "colab": {
          "base_uri": "https://localhost:8080/"
        },
        "id": "5DoFlpPb0MU8",
        "outputId": "d46a3080-59a5-454b-e54d-52c9f4da147d"
      },
      "execution_count": null,
      "outputs": [
        {
          "output_type": "execute_result",
          "data": {
            "text/plain": [
              "89.07"
            ]
          },
          "metadata": {},
          "execution_count": 32
        }
      ]
    },
    {
      "cell_type": "code",
      "source": [
        "pre_df[models[i * 2]].values.shape"
      ],
      "metadata": {
        "colab": {
          "base_uri": "https://localhost:8080/"
        },
        "id": "6cKE-e_m2eaa",
        "outputId": "fe1fb387-52eb-47ec-b607-49c442f05f38"
      },
      "execution_count": null,
      "outputs": [
        {
          "output_type": "execute_result",
          "data": {
            "text/plain": [
              "(5,)"
            ]
          },
          "metadata": {},
          "execution_count": 27
        }
      ]
    },
    {
      "cell_type": "code",
      "source": [
        "max([1, 2, 3, 4, 5], [5, 6, 7, 8, 9], [4, 5, 5,6 ,4])"
      ],
      "metadata": {
        "colab": {
          "base_uri": "https://localhost:8080/"
        },
        "id": "BV10itTj0Ow7",
        "outputId": "95abd286-b62b-41b6-a127-22f7ae55fdc6"
      },
      "execution_count": null,
      "outputs": [
        {
          "output_type": "execute_result",
          "data": {
            "text/plain": [
              "[5, 6, 7, 8, 9]"
            ]
          },
          "metadata": {},
          "execution_count": 20
        }
      ]
    },
    {
      "cell_type": "code",
      "source": [
        "title = ['각막궤양', '각막부골편', '결막염', '비궤양성각막염', '안검염']"
      ],
      "metadata": {
        "id": "IVpgLpu-OeCL"
      },
      "execution_count": null,
      "outputs": []
    },
    {
      "cell_type": "code",
      "source": [
        "plt.figure(figsize = (192, 128))\n",
        "plt.rc('font', size=150, weight=\"bold\", family='NanumBarunGothic')\n",
        "plt.rc('xtick', labelsize=150) \n",
        "plt.rc('ytick', labelsize=150)\n",
        "idx = 0\n",
        "for j in range(2):\n",
        "    for i in range(2):\n",
        "        area = plt.subplot(3, 2, idx+1)\n",
        "        plt.grid(True, lw = 1)\n",
        "        area.set_title(title[idx])\n",
        "        type = pre_df.iloc[idx]\n",
        "        type = type.drop('model')\n",
        "        type = type.drop('Densnet')\n",
        "        type = type.drop('Densnet.1')\n",
        "        sns.barplot(['Alexnet', 'Alexnet', 'Efficientnet','Efficientnet', 'Mnasnet', 'Mnasnet', 'Resnet', 'Resnet', 'Vgg',\n",
        "            'Vgg', 'Vit', 'Vit'], type.values, hue = ['n', 'y']*6)    \n",
        "        plt.ylim(type.values.min() - 2 , type.values.max() + 2)\n",
        "        idx += 1\n",
        "area = plt.subplot(3, 2, idx+1)\n",
        "plt.grid(True, lw = 1)\n",
        "type = pre_df.iloc[idx]\n",
        "area.set_title(title[idx])\n",
        "type = type.drop('model')\n",
        "type = type.drop('Densnet')\n",
        "type = type.drop('Densnet.1')\n",
        "sns.barplot(['Alexnet', 'Alexnet', 'Efficientnet','Efficientnet', 'Mnasnet', 'Mnasnet', 'Resnet', 'Resnet', 'Vgg',\n",
        "    'Vgg', 'Vit', 'Vit'], type.values, hue = ['n', 'y']*6)    \n",
        "plt.ylim(type.values.min() - 2 , type.values.max() + 2)\n",
        "idx += 1\n",
        "plt.tight_layout()\n",
        "plt.show()"
      ],
      "metadata": {
        "id": "5se4u0Ll70k_"
      },
      "execution_count": null,
      "outputs": []
    },
    {
      "cell_type": "code",
      "source": [
        "type"
      ],
      "metadata": {
        "colab": {
          "base_uri": "https://localhost:8080/"
        },
        "id": "v6T-uPcXM9BC",
        "outputId": "999b94af-d556-4937-8eda-09ec43f4db68"
      },
      "execution_count": null,
      "outputs": [
        {
          "output_type": "execute_result",
          "data": {
            "text/plain": [
              "93.84"
            ]
          },
          "metadata": {},
          "execution_count": 17
        }
      ]
    },
    {
      "cell_type": "code",
      "source": [
        "plt.figure(figsize = (320, 40))\n",
        "plt.rc('font', size=120, weight=\"bold\", family='NanumBarunGothic')\n",
        "plt.rc('xtick', labelsize=120) \n",
        "plt.rc('ytick', labelsize=120)\n",
        "for i in range(5):\n",
        "    plt.subplot(1, 5, i+1)\n",
        "    type = pre_df.iloc[i]\n",
        "    type = type['Densnet']\n",
        "    type = type['Densnet.1']\n",
        "    sns.barplot(['Desnet', 'Densenet'], type.values, hue = ['n', 'y'])\n",
        "\n",
        "    plt.ylim(type.values.min() - 2 , type.values.max() + 2)\n",
        "plt.tight_layout()\n",
        "plt.show()"
      ],
      "metadata": {
        "id": "78TOxFRT-mYM"
      },
      "execution_count": null,
      "outputs": []
    },
    {
      "cell_type": "code",
      "source": [
        "df = pd.read_csv('resdens.csv')\n",
        "df = df.astype('float')"
      ],
      "metadata": {
        "id": "RV3osbdeTWC0"
      },
      "execution_count": null,
      "outputs": []
    },
    {
      "cell_type": "code",
      "source": [
        "print(df)"
      ],
      "metadata": {
        "colab": {
          "base_uri": "https://localhost:8080/"
        },
        "id": "zo8OtXIJXg0r",
        "outputId": "a156e2b6-20e8-4a75-886f-a0f068b74b4e"
      },
      "execution_count": null,
      "outputs": [
        {
          "output_type": "stream",
          "name": "stdout",
          "text": [
            "   Densenet161  Resnet152\n",
            "0       91.140     86.305\n",
            "1       94.920     94.850\n",
            "2       80.845     77.585\n",
            "3       93.790     92.155\n",
            "4       86.180     84.550\n"
          ]
        }
      ]
    },
    {
      "cell_type": "code",
      "source": [
        "import matplotlib.pyplot as plt\n",
        "import numpy as np\n",
        "\n",
        "# 그림 사이즈, 바 굵기 조정\n",
        "fig, ax = plt.subplots(figsize=(12,6))\n",
        "bar_width = 0.25\n",
        "\n",
        "# 연도가 4개이므로 0, 1, 2, 3 위치를 기준으로 삼음\n",
        "index = np.arange(5)\n",
        "\n",
        "# 각 연도별로 3개 샵의 bar를 순서대로 나타내는 과정, 각 그래프는 0.25의 간격을 두고 그려짐\n",
        "b1 = plt.bar(index, df['Densenet161'], bar_width, alpha=0.4, color='red', label='Densenet161')\n",
        "\n",
        "b2 = plt.bar(index + bar_width, df['Resnet152'], bar_width, alpha=0.4, color='blue', label='Resnet152')\n",
        "\n",
        "# x축 위치를 정 가운데로 조정하고 x축의 텍스트를 year 정보와 매칭\n",
        "plt.xticks(np.arange(bar_width, 5 + bar_width, 1), title)\n",
        "plt.rc('font', weight=\"bold\", family='NanumBarunGothic')\n",
        "plt.rc('xtick', labelsize = 20)\n",
        "plt.rc('ytick', labelsize = 20)\n",
        "# x축, y축 이름 및 범례 설정\n",
        "plt.xlabel('질병', size = 20)\n",
        "plt.ylabel('정확도', size = 20)\n",
        "plt.legend(loc = 'upper right', fontsize = 15)\n",
        "plt.ylim(75 , 96)\n",
        "plt.show()"
      ],
      "metadata": {
        "colab": {
          "base_uri": "https://localhost:8080/",
          "height": 412
        },
        "id": "eI-hyO4OW_K7",
        "outputId": "ebb456a4-f8d2-404b-84f4-2c8f6ff8a2ed"
      },
      "execution_count": null,
      "outputs": [
        {
          "output_type": "display_data",
          "data": {
            "text/plain": [
              "<Figure size 864x432 with 1 Axes>"
            ],
            "image/png": "[encoded data removed]"
          },
          "metadata": {
            "needs_background": "light"
          }
        }
      ]
    },
    {
      "cell_type": "code",
      "source": [
        "import matplotlib.pyplot as plt\n",
        "import numpy as np\n",
        "\n",
        "df = pd.read_csv('resvgg.csv')\n",
        "df = df.astype('float')\n",
        "# 그림 사이즈, 바 굵기 조정\n",
        "fig, ax = plt.subplots(figsize=(12,6))\n",
        "bar_width = 0.25\n",
        "\n",
        "# 연도가 4개이므로 0, 1, 2, 3 위치를 기준으로 삼음\n",
        "index = np.arange(5)\n",
        "\n",
        "# 각 연도별로 3개 샵의 bar를 순서대로 나타내는 과정, 각 그래프는 0.25의 간격을 두고 그려짐\n",
        "b1 = plt.bar(index, df['vgg19'], bar_width, alpha=0.4, color='red', label='VGG19')\n",
        "\n",
        "b2 = plt.bar(index + bar_width, df['resnet18'], bar_width, alpha=0.4, color='blue', label='ResNet18')\n",
        "\n",
        "# x축 위치를 정 가운데로 조정하고 x축의 텍스트를 year 정보와 매칭\n",
        "plt.xticks(np.arange(bar_width, 5 + bar_width, 1), title)\n",
        "plt.rc('font', weight=\"bold\", family='NanumBarunGothic')\n",
        "plt.rc('xtick', labelsize = 20)\n",
        "plt.rc('ytick', labelsize = 20)\n",
        "# x축, y축 이름 및 범례 설정\n",
        "plt.xlabel('질병', size = 20)\n",
        "plt.ylabel('정확도', size = 20)\n",
        "plt.legend(loc = 'upper right', fontsize = 15)\n",
        "plt.ylim(75 , 96)\n",
        "plt.show()"
      ],
      "metadata": {
        "colab": {
          "base_uri": "https://localhost:8080/",
          "height": 412
        },
        "id": "70h0ySp2XSEM",
        "outputId": "5ad61038-7afc-4f29-ac93-23cf3dfeae04"
      },
      "execution_count": null,
      "outputs": [
        {
          "output_type": "display_data",
          "data": {
            "text/plain": [
              "<Figure size 864x432 with 1 Axes>"
            ],
            "image/png": "[encoded data removed]"
          },
          "metadata": {
            "needs_background": "light"
          }
        }
      ]
    },
    {
      "cell_type": "code",
      "source": [],
      "metadata": {
        "id": "CVRk58gscTmD"
      },
      "execution_count": null,
      "outputs": []
    }
  ]
}
